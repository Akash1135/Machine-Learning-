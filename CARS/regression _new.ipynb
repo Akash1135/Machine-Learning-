{
 "cells": [
  {
   "cell_type": "code",
   "execution_count": 1,
   "metadata": {},
   "outputs": [
    {
     "name": "stdout",
     "output_type": "stream",
     "text": [
      "    Actual  Predicted\n",
      "29     534      547.0\n",
      "4      410      414.0\n",
      "26     577      574.0\n",
      "30     571      554.0\n",
      "32     577      631.0\n",
      "37     704      640.0\n",
      "34     487      628.0\n",
      "40     587      649.0\n",
      "7      467      414.0\n",
      "10     580      510.0\n",
      "Mean Absolute Error: 48.1\n",
      "Mean Squared Error: 3892.9\n",
      "Root Mean Squared Error: 62.393108593818276\n"
     ]
    }
   ],
   "source": [
    "# prediction of petrol price using regression analysis\n",
    "import pandas as pd\n",
    "import numpy as np\n",
    "import matplotlib.pyplot as plt\n",
    "%matplotlib inline\n",
    "dataset = pd.read_csv('/home/akash/Documents/MACHINE LEARNING/CARS/petrol_consumption.csv')\n",
    "dataset.head()\n",
    "dataset.describe()\n",
    "X = dataset.drop('Petrol_Consumption', axis=1)\n",
    "y = dataset['Petrol_Consumption']\n",
    "from sklearn.model_selection import train_test_split\n",
    "X_train, X_test, y_train, y_test = train_test_split(X, y, test_size=0.2, random_state=0)\n",
    "from sklearn.tree import DecisionTreeRegressor\n",
    "regressor = DecisionTreeRegressor()\n",
    "regressor.fit(X_train, y_train)\n",
    "y_pred = regressor.predict(X_test)\n",
    "df=pd.DataFrame({'Actual':y_test, 'Predicted':y_pred})\n",
    "print(df)\n",
    "# mean absolute error, mean squared error, and root mean squared error.\n",
    "\n",
    "\n",
    "from sklearn import metrics\n",
    "print('Mean Absolute Error:', metrics.mean_absolute_error(y_test, y_pred))\n",
    "print('Mean Squared Error:', metrics.mean_squared_error(y_test, y_pred))\n",
    "print('Root Mean Squared Error:', np.sqrt(metrics.mean_squared_error(y_test, y_pred)))"
   ]
  },
  {
   "cell_type": "code",
   "execution_count": 10,
   "metadata": {},
   "outputs": [
    {
     "name": "stdout",
     "output_type": "stream",
     "text": [
      "coefficient of determination: 0.715875613747954\n",
      "intercept: 5.633333333333329\n",
      "slope: [0.54]\n",
      "predicted response:\n",
      "[ 8.33333333 13.73333333 19.13333333 24.53333333 29.93333333 35.33333333]\n",
      "[[0]\n",
      " [1]\n",
      " [2]\n",
      " [3]\n",
      " [4]]\n",
      "[5.63333333 6.17333333 6.71333333 7.25333333 7.79333333]\n"
     ]
    },
    {
     "data": {
      "image/png": "[encoded data removed]",
      "text/plain": [
       "<Figure size 432x288 with 1 Axes>"
      ]
     },
     "metadata": {
      "needs_background": "light"
     },
     "output_type": "display_data"
    }
   ],
   "source": [
    "# linear regression using sklearn or scikit-learn\n",
    "import matplotlib.pyplot as plt\n",
    "import numpy as np\n",
    "from sklearn.linear_model import LinearRegression\n",
    "x = np.array([5, 15, 25, 35, 45, 55]).reshape((-1, 1))\n",
    "y = np.array([5, 20, 14, 32, 22, 38])\n",
    "\n",
    "model = LinearRegression()\n",
    "model.fit(x, y)\n",
    "model = LinearRegression().fit(x, y)\n",
    "r_sq = model.score(x, y)\n",
    "print('coefficient of determination:', r_sq)\n",
    "print('intercept:', model.intercept_)\n",
    "print('slope:', model.coef_)\n",
    "y_pred = model.predict(x)\n",
    "print('predicted response:', y_pred, sep='\\n')\n",
    "x_new = np.arange(5).reshape((-1, 1))\n",
    "print(x_new)\n",
    "y_new = model.predict(x_new)\n",
    "print(y_new)\n",
    "\n",
    "plt.scatter(x, y, color = \"m\",\n",
    "\t\t\tmarker = \"o\", s = 30)\n",
    "plt.plot(x, y_pred, color = \"g\")\n",
    "# putting labels\n",
    "plt.xlabel('x')\n",
    "plt.ylabel('y')\n",
    "# function to show plot\n",
    "plt.show()"
   ]
  },
  {
   "cell_type": "code",
   "execution_count": 2,
   "metadata": {},
   "outputs": [
    {
     "name": "stdout",
     "output_type": "stream",
     "text": [
      "coefficient of determination: 0.9999489636085633\n",
      "intercept: 2.7995611285266455\n",
      "slope: [ 2.28163009 -1.67210031]\n",
      "predicted response:\n",
      "[-3.7323511   3.56557994  2.5030094  11.47304075  5.690721  ]\n"
     ]
    }
   ],
   "source": [
    "#Multiple linear using sklearn\n",
    "import matplotlib.pyplot as plt\n",
    "import numpy as np\n",
    "from sklearn.linear_model import LinearRegression\n",
    "\n",
    "x = [[3, 8], [4, 5], [5, 7], [6, 3], [2, 1]]\n",
    "y = [-3.7, 3.5, 2.5, 11.5, 5.7]\n",
    "x, y = np.array(x), np.array(y)\n",
    "model = LinearRegression().fit(x, y)\n",
    "r_sq = model.score(x, y)\n",
    "print('coefficient of determination:', r_sq)\n",
    "print('intercept:', model.intercept_)\n",
    "print('slope:', model.coef_)\n",
    "y_pred = model.predict(x)\n",
    "print('predicted response:', y_pred, sep='\\n')\n",
    "\n"
   ]
  },
  {
   "cell_type": "code",
   "execution_count": 16,
   "metadata": {},
   "outputs": [
    {
     "name": "stdout",
     "output_type": "stream",
     "text": [
      "[[   5.   25.]\n",
      " [  15.  225.]\n",
      " [  25.  625.]\n",
      " [  35. 1225.]\n",
      " [  45. 2025.]\n",
      " [  55. 3025.]]\n",
      "coefficient of determination: 0.8908516262498564\n",
      "intercept: 21.372321428571425\n",
      "coefficients: [-1.32357143  0.02839286]\n",
      "predicted response:\n",
      "[15.46428571  7.90714286  6.02857143  9.82857143 19.30714286 34.46428571]\n"
     ]
    }
   ],
   "source": [
    "#polynomial regression using scikit (sklearn)\n",
    "import numpy as np\n",
    "from sklearn.linear_model import LinearRegression\n",
    "from sklearn.preprocessing import PolynomialFeatures\n",
    "x = np.array([5, 15, 25, 35, 45, 55]).reshape((-1, 1)) #for two-dimensional array reshape() is used.\n",
    "y = np.array([15, 11, 2, 8, 25, 32])\n",
    "transformer = PolynomialFeatures(degree=2, include_bias=False)\n",
    "transformer.fit(x)\n",
    "x_ = transformer.transform(x)\n",
    "print(x_)\n",
    "x_ = PolynomialFeatures(degree=2, include_bias=False).fit_transform(x)\n",
    "#print(x_)\n",
    "model = LinearRegression().fit(x_, y)\n",
    "r_sq = model.score(x_, y)\n",
    "print('coefficient of determination:', r_sq)\n",
    "#coefficient of determination: 0.8908516262498564\n",
    "print('intercept:', model.intercept_)\n",
    "#intercept: 21.372321428571425\n",
    "print('coefficients:', model.coef_)\n",
    "#coefficients: [-1.32357143  0.02839286]\n",
    "x_ = PolynomialFeatures(degree=2, include_bias=True).fit_transform(x)\n",
    "model = LinearRegression(fit_intercept=False).fit(x_, y)\n",
    "y_pred = model.predict(x_)\n",
    "print('predicted response:', y_pred, sep='\\n')"
   ]
  },
  {
   "cell_type": "code",
   "execution_count": 3,
   "metadata": {},
   "outputs": [
    {
     "data": {
      "image/png": "[encoded data removed]",
      "text/plain": [
       "<Figure size 432x288 with 1 Axes>"
      ]
     },
     "metadata": {
      "needs_background": "light"
     },
     "output_type": "display_data"
    },
    {
     "name": "stdout",
     "output_type": "stream",
     "text": [
      "-0.758591524376155\n",
      "85.59308314937454\n"
     ]
    }
   ],
   "source": [
    "#linear regression\n",
    "import matplotlib.pyplot as plt\n",
    "from scipy import stats\n",
    "\n",
    "x = [5,7,8,7,2,17,2,9,4,11,12,9,6]\n",
    "y = [99,86,87,88,111,86,103,87,94,78,77,85,86]\n",
    "\n",
    "slope, intercept, r, p, std_err = stats.linregress(x, y)\n",
    "\n",
    "def myfunc(x):\n",
    "  return slope * x + intercept\n",
    "\n",
    "mymodel = list(map(myfunc, x))\n",
    "\n",
    "plt.scatter(x, y)\n",
    "plt.plot(x, mymodel)\n",
    "plt.show()\n",
    "print(r)\n",
    "# predict the spped of 10 year old car \n",
    "speed = myfunc(10)\n",
    "\n",
    "print(speed)"
   ]
  },
  {
   "cell_type": "code",
   "execution_count": 5,
   "metadata": {},
   "outputs": [
    {
     "data": {
      "image/png": "[encoded data removed]",
      "text/plain": [
       "<Figure size 432x288 with 1 Axes>"
      ]
     },
     "metadata": {
      "needs_background": "light"
     },
     "output_type": "display_data"
    },
    {
     "name": "stdout",
     "output_type": "stream",
     "text": [
      "0.01331814154297491\n"
     ]
    }
   ],
   "source": [
    "# linear regression is not good for these data sets\n",
    "import matplotlib.pyplot as plt\n",
    "from scipy import stats\n",
    "\n",
    "x = [89,43,36,36,95,10,66,34,38,20,26,29,48,64,6,5,36,66,72,40]\n",
    "y = [21,46,3,35,67,95,53,72,58,10,26,34,90,33,38,20,56,2,47,15]\n",
    "\n",
    "slope, intercept, r, p, std_err = stats.linregress(x, y)\n",
    "\n",
    "def myfunc(x):\n",
    "  return slope * x + intercept\n",
    "\n",
    "mymodel = list(map(myfunc, x))\n",
    "\n",
    "plt.scatter(x, y)\n",
    "plt.plot(x, mymodel)\n",
    "plt.show()\n",
    "print(r)"
   ]
  },
  {
   "cell_type": "code",
   "execution_count": 4,
   "metadata": {},
   "outputs": [
    {
     "data": {
      "image/png": "[encoded data removed]",
      "text/plain": [
       "<Figure size 432x288 with 1 Axes>"
      ]
     },
     "metadata": {
      "needs_background": "light"
     },
     "output_type": "display_data"
    }
   ],
   "source": [
    "#polynomial regression non linear graph\n",
    "import matplotlib.pyplot as plt\n",
    "\n",
    "x = [1,2,3,5,6,7,8,9,10,12,13,14,15,16,18,19,21,22]\n",
    "y = [100,90,80,60,60,55,60,65,70,70,75,76,78,79,90,99,99,100]\n",
    "\n",
    "plt.scatter(x, y)\n",
    "plt.show()"
   ]
  },
  {
   "cell_type": "code",
   "execution_count": 5,
   "metadata": {},
   "outputs": [
    {
     "data": {
      "image/png": "[encoded data removed]",
      "text/plain": [
       "<Figure size 432x288 with 1 Axes>"
      ]
     },
     "metadata": {
      "needs_background": "light"
     },
     "output_type": "display_data"
    },
    {
     "name": "stdout",
     "output_type": "stream",
     "text": [
      "0.9432150416451027\n",
      "88.87331269697987\n"
     ]
    }
   ],
   "source": [
    "import numpy\n",
    "import matplotlib.pyplot as plt\n",
    "from sklearn.metrics import r2_score\n",
    "\n",
    "x = [1,2,3,5,6,7,8,9,10,12,13,14,15,16,18,19,21,22]\n",
    "y = [100,90,80,60,60,55,60,65,70,70,75,76,78,79,90,99,99,100]\n",
    "\n",
    "mymodel = numpy.poly1d(numpy.polyfit(x, y, 3))\n",
    "\n",
    "myline = numpy.linspace(1, 22, 100)\n",
    "\n",
    "plt.scatter(x, y)\n",
    "plt.plot(myline, mymodel(myline))\n",
    "plt.show()\n",
    "print(r2_score(y, mymodel(x)))\n",
    "# prediction of future value\n",
    "speed = mymodel(17)\n",
    "print(speed)"
   ]
  },
  {
   "cell_type": "code",
   "execution_count": 6,
   "metadata": {},
   "outputs": [
    {
     "name": "stdout",
     "output_type": "stream",
     "text": [
      "0.009952707566680652\n"
     ]
    }
   ],
   "source": [
    "import numpy\n",
    "from sklearn.metrics import r2_score\n",
    "\n",
    "x = [89,43,36,36,95,10,66,34,38,20,26,29,48,64,6,5,36,66,72,40]\n",
    "y = [21,46,3,35,67,95,53,72,58,10,26,34,90,33,38,20,56,2,47,15]\n",
    "\n",
    "mymodel = numpy.poly1d(numpy.polyfit(x, y, 3))\n",
    "\n",
    "print(r2_score(y, mymodel(x)))  #bad fit "
   ]
  },
  {
   "cell_type": "code",
   "execution_count": 15,
   "metadata": {},
   "outputs": [
    {
     "data": {
      "image/png": "[encoded data removed]",
      "text/plain": [
       "<Figure size 432x288 with 1 Axes>"
      ]
     },
     "metadata": {
      "needs_background": "light"
     },
     "output_type": "display_data"
    },
    {
     "name": "stdout",
     "output_type": "stream",
     "text": [
      "[95.09347461183383, 97.36288292068821, 95.09347461183383, 93.95877045740663, 100.76699538396979, 95.09347461183383, 99.6322912295426, 100.76699538396979, 100.76699538396979, 101.90169953839698, 96.22817876626101, 98.4975870751154, 95.09347461183383, 101.90169953839698, 101.90169953839698, 101.90169953839698, 101.90169953839698, 108.70992446496014, 101.90169953839698, 106.44051615610576, 101.90169953839698, 106.44051615610576, 107.57522031053294, 101.90169953839698, 106.44051615610576, 100.76699538396979, 106.44051615610576, 106.44051615610576, 101.90169953839698, 106.44051615610576, 107.57522031053294, 106.44051615610576, 101.90169953839698, 101.90169953839698, 101.90169953839698, 112.11403692824172]\n",
      "0     1000\n",
      "1     1200\n",
      "2     1000\n",
      "3      900\n",
      "4     1500\n",
      "5     1000\n",
      "6     1400\n",
      "7     1500\n",
      "8     1500\n",
      "9     1600\n",
      "10    1100\n",
      "11    1300\n",
      "12    1000\n",
      "13    1600\n",
      "14    1600\n",
      "15    1600\n",
      "16    1600\n",
      "17    2200\n",
      "18    1600\n",
      "19    2000\n",
      "20    1600\n",
      "21    2000\n",
      "22    2100\n",
      "23    1600\n",
      "24    2000\n",
      "25    1500\n",
      "26    2000\n",
      "27    2000\n",
      "28    1600\n",
      "29    2000\n",
      "30    2100\n",
      "31    2000\n",
      "32    1600\n",
      "33    1600\n",
      "34    1600\n",
      "35    2500\n",
      "Name: Volume, dtype: int64\n"
     ]
    }
   ],
   "source": [
    "#multiple linear regression\n",
    "import pandas\n",
    "from sklearn import linear_model       # require for multiple linear regression\n",
    "import matplotlib.pyplot as plt\n",
    "from scipy import stats                #require for simple linear regression\n",
    "\n",
    "df = pandas.read_csv(\"F:\\Download\\cars.csv\")\n",
    "\n",
    "#X = df[['Weight', 'Volume']]\n",
    "X=df['Volume']\n",
    "#X=df['Weight']\n",
    "y = df['CO2']\n",
    "\n",
    "'''regr = linear_model.LinearRegression()\n",
    "regr.fit(X, y)\n",
    "\n",
    "#predict the CO2 emission of a car where the weight is 2300kg, and the volume is 1300cm3:\n",
    "predictedCO2 = regr.predict([[2300, 1300]])\n",
    "\n",
    "print(predictedCO2)\n",
    "print(regr.coef_)'''\n",
    "\n",
    "slope, intercept, r, p, std_err = stats.linregress(X, y)\n",
    "\n",
    "def myfunc(X):\n",
    "  return slope * X + intercept\n",
    "\n",
    "mymodel = list(map(myfunc, X))\n",
    "plt.scatter(X, y)\n",
    "plt.plot(X, mymodel)\n",
    "plt.show()\n",
    "print(mymodel)\n",
    "print(X)"
   ]
  },
  {
   "cell_type": "code",
   "execution_count": 15,
   "metadata": {},
   "outputs": [
    {
     "name": "stdout",
     "output_type": "stream",
     "text": [
      "const   -5.684342e-14\n",
      "CO2      1.000000e+00\n",
      "dtype: float64\n"
     ]
    },
    {
     "data": {
      "text/html": [
       "<table class=\"simpletable\">\n",
       "<tr>\n",
       "        <td>Model:</td>               <td>OLS</td>         <td>Adj. R-squared:</td>      <td>1.000</td>  \n",
       "</tr>\n",
       "<tr>\n",
       "  <td>Dependent Variable:</td>        <td>CO2</td>              <td>AIC:</td>         <td>-1624.4541</td>\n",
       "</tr>\n",
       "<tr>\n",
       "         <td>Date:</td>        <td>2021-05-19 22:56</td>        <td>BIC:</td>         <td>-1621.7897</td>\n",
       "</tr>\n",
       "<tr>\n",
       "   <td>No. Observations:</td>         <td>28</td>          <td>Log-Likelihood:</td>     <td>814.23</td>  \n",
       "</tr>\n",
       "<tr>\n",
       "       <td>Df Model:</td>              <td>1</td>           <td>F-statistic:</td>      <td>3.706e+29</td>\n",
       "</tr>\n",
       "<tr>\n",
       "     <td>Df Residuals:</td>           <td>26</td>        <td>Prob (F-statistic):</td>    <td>0.00</td>   \n",
       "</tr>\n",
       "<tr>\n",
       "      <td>R-squared:</td>            <td>1.000</td>            <td>Scale:</td>        <td>3.4797e-27</td>\n",
       "</tr>\n",
       "</table>\n",
       "<table class=\"simpletable\">\n",
       "<tr>\n",
       "    <td></td>     <th>Coef.</th>  <th>Std.Err.</th>           <th>t</th>           <th>P>|t|</th> <th>[0.025</th>  <th>0.975]</th>\n",
       "</tr>\n",
       "<tr>\n",
       "  <th>const</th> <td>-0.0000</td>  <td>0.0000</td>         <td>-0.3413</td>       <td>0.7356</td> <td>-0.0000</td> <td>0.0000</td>\n",
       "</tr>\n",
       "<tr>\n",
       "  <th>CO2</th>   <td>1.0000</td>   <td>0.0000</td>  <td>608731971466825.1250</td> <td>0.0000</td> <td>1.0000</td>  <td>1.0000</td>\n",
       "</tr>\n",
       "</table>\n",
       "<table class=\"simpletable\">\n",
       "<tr>\n",
       "     <td>Omnibus:</td>    <td>410.692</td>  <td>Durbin-Watson:</td>    <td>0.000</td>\n",
       "</tr>\n",
       "<tr>\n",
       "  <td>Prob(Omnibus):</td>  <td>0.000</td>  <td>Jarque-Bera (JB):</td> <td>10.500</td>\n",
       "</tr>\n",
       "<tr>\n",
       "       <td>Skew:</td>      <td>0.000</td>      <td>Prob(JB):</td>      <td>0.005</td>\n",
       "</tr>\n",
       "<tr>\n",
       "     <td>Kurtosis:</td>    <td>0.000</td>   <td>Condition No.:</td>    <td>1514</td> \n",
       "</tr>\n",
       "</table>"
      ],
      "text/plain": [
       "<class 'statsmodels.iolib.summary2.Summary'>\n",
       "\"\"\"\n",
       "                  Results: Ordinary least squares\n",
       "===================================================================\n",
       "Model:              OLS              Adj. R-squared:     1.000     \n",
       "Dependent Variable: CO2              AIC:                -1624.4541\n",
       "Date:               2021-05-19 22:56 BIC:                -1621.7897\n",
       "No. Observations:   28               Log-Likelihood:     814.23    \n",
       "Df Model:           1                F-statistic:        3.706e+29 \n",
       "Df Residuals:       26               Prob (F-statistic): 0.00      \n",
       "R-squared:          1.000            Scale:              3.4797e-27\n",
       "-------------------------------------------------------------------\n",
       "         Coef.  Std.Err.          t           P>|t|   [0.025 0.975]\n",
       "-------------------------------------------------------------------\n",
       "const   -0.0000   0.0000              -0.3413 0.7356 -0.0000 0.0000\n",
       "CO2      1.0000   0.0000 608731971466825.1250 0.0000  1.0000 1.0000\n",
       "-------------------------------------------------------------------\n",
       "Omnibus:               410.692       Durbin-Watson:          0.000 \n",
       "Prob(Omnibus):         0.000         Jarque-Bera (JB):       10.500\n",
       "Skew:                  0.000         Prob(JB):               0.005 \n",
       "Kurtosis:              0.000         Condition No.:          1514  \n",
       "===================================================================\n",
       "* The condition number is large (2e+03). This might indicate\n",
       "strong multicollinearity or other numerical problems.\n",
       "\"\"\""
      ]
     },
     "execution_count": 15,
     "metadata": {},
     "output_type": "execute_result"
    }
   ],
   "source": [
    "import warnings\n",
    "warnings.filterwarnings('ignore') \n",
    "import pandas as pd\n",
    "import numpy as np\n",
    "import statsmodels.api as sm\n",
    "import matplotlib.pyplot as plt\n",
    "import seaborn as sn\n",
    "from sklearn.model_selection import train_test_split \n",
    "\n",
    "\n",
    "np.set_printoptions(precision=4, linewidth=100) \n",
    "#mba_salary_df = pd.read_csv ('/home/akash/Documents/MACHINE LEARNING/CARS/MBA Salary.csv')\n",
    "mba_salary_df = pd.read_csv(\"/home/akash/Documents/MACHINE LEARNING/CARS/cars.csv\")\n",
    "#mba_salary_df = pd.read_csv( 'MBA Salary.csv' )\n",
    "#mba_salary_df.head( 10 )\n",
    "X = sm.add_constant( mba_salary_df['Volume'] )  # add a column of one in an array\n",
    "#X.head(5)\n",
    "#X = mba_salary_df['Percentage in Grade 10'] \n",
    "Y = mba_salary_df['CO2'] \n",
    "X = sm.add_constant( mba_salary_df['CO2'] ) \n",
    "Y.head(5)\n",
    "train_X, test_X, train_y, test_y = train_test_split( X ,Y,train_size = 0.8,random_state = 100 ) \n",
    "#mba_salary_df.info() \n",
    "mba_salary_lm = sm.OLS( train_y, train_X ).fit() \n",
    "#print(mba_salary_lm)\n",
    "print( mba_salary_lm.params ) \n",
    "mba_salary_lm.summary2() "
   ]
  },
  {
   "cell_type": "code",
   "execution_count": 13,
   "metadata": {},
   "outputs": [
    {
     "name": "stdout",
     "output_type": "stream",
     "text": [
      "const                     30587.285652\n",
      "Percentage in Grade 10     3560.587383\n",
      "dtype: float64\n"
     ]
    },
    {
     "data": {
      "text/html": [
       "<table class=\"simpletable\">\n",
       "<tr>\n",
       "        <td>Model:</td>               <td>OLS</td>         <td>Adj. R-squared:</td>      <td>0.190</td>  \n",
       "</tr>\n",
       "<tr>\n",
       "  <td>Dependent Variable:</td>      <td>Salary</td>             <td>AIC:</td>          <td>1008.8680</td>\n",
       "</tr>\n",
       "<tr>\n",
       "         <td>Date:</td>        <td>2021-05-19 22:56</td>        <td>BIC:</td>          <td>1012.2458</td>\n",
       "</tr>\n",
       "<tr>\n",
       "   <td>No. Observations:</td>         <td>40</td>          <td>Log-Likelihood:</td>     <td>-502.43</td> \n",
       "</tr>\n",
       "<tr>\n",
       "       <td>Df Model:</td>              <td>1</td>           <td>F-statistic:</td>        <td>10.16</td>  \n",
       "</tr>\n",
       "<tr>\n",
       "     <td>Df Residuals:</td>           <td>38</td>        <td>Prob (F-statistic):</td>   <td>0.00287</td> \n",
       "</tr>\n",
       "<tr>\n",
       "      <td>R-squared:</td>            <td>0.211</td>            <td>Scale:</td>        <td>5.0121e+09</td>\n",
       "</tr>\n",
       "</table>\n",
       "<table class=\"simpletable\">\n",
       "<tr>\n",
       "             <td></td>               <th>Coef.</th>    <th>Std.Err.</th>     <th>t</th>    <th>P>|t|</th>    <th>[0.025</th>      <th>0.975]</th>   \n",
       "</tr>\n",
       "<tr>\n",
       "  <th>const</th>                  <td>30587.2857</td> <td>71869.4497</td> <td>0.4256</td> <td>0.6728</td> <td>-114904.8089</td> <td>176079.3802</td>\n",
       "</tr>\n",
       "<tr>\n",
       "  <th>Percentage in Grade 10</th>  <td>3560.5874</td>  <td>1116.9258</td> <td>3.1878</td> <td>0.0029</td>   <td>1299.4892</td>   <td>5821.6855</td> \n",
       "</tr>\n",
       "</table>\n",
       "<table class=\"simpletable\">\n",
       "<tr>\n",
       "     <td>Omnibus:</td>    <td>2.048</td>  <td>Durbin-Watson:</td>   <td>2.611</td>\n",
       "</tr>\n",
       "<tr>\n",
       "  <td>Prob(Omnibus):</td> <td>0.359</td> <td>Jarque-Bera (JB):</td> <td>1.724</td>\n",
       "</tr>\n",
       "<tr>\n",
       "       <td>Skew:</td>     <td>0.369</td>     <td>Prob(JB):</td>     <td>0.422</td>\n",
       "</tr>\n",
       "<tr>\n",
       "     <td>Kurtosis:</td>   <td>2.300</td>  <td>Condition No.:</td>    <td>413</td> \n",
       "</tr>\n",
       "</table>"
      ],
      "text/plain": [
       "<class 'statsmodels.iolib.summary2.Summary'>\n",
       "\"\"\"\n",
       "                          Results: Ordinary least squares\n",
       "===================================================================================\n",
       "Model:                    OLS                   Adj. R-squared:          0.190     \n",
       "Dependent Variable:       Salary                AIC:                     1008.8680 \n",
       "Date:                     2021-05-19 22:56      BIC:                     1012.2458 \n",
       "No. Observations:         40                    Log-Likelihood:          -502.43   \n",
       "Df Model:                 1                     F-statistic:             10.16     \n",
       "Df Residuals:             38                    Prob (F-statistic):      0.00287   \n",
       "R-squared:                0.211                 Scale:                   5.0121e+09\n",
       "-----------------------------------------------------------------------------------\n",
       "                         Coef.     Std.Err.    t    P>|t|     [0.025       0.975]  \n",
       "-----------------------------------------------------------------------------------\n",
       "const                  30587.2857 71869.4497 0.4256 0.6728 -114904.8089 176079.3802\n",
       "Percentage in Grade 10  3560.5874  1116.9258 3.1878 0.0029    1299.4892   5821.6855\n",
       "-----------------------------------------------------------------------------------\n",
       "Omnibus:                    2.048              Durbin-Watson:                 2.611\n",
       "Prob(Omnibus):              0.359              Jarque-Bera (JB):              1.724\n",
       "Skew:                       0.369              Prob(JB):                      0.422\n",
       "Kurtosis:                   2.300              Condition No.:                 413  \n",
       "===================================================================================\n",
       "\n",
       "\"\"\""
      ]
     },
     "execution_count": 13,
     "metadata": {},
     "output_type": "execute_result"
    }
   ],
   "source": [
    "import warnings\n",
    "warnings.filterwarnings('ignore') \n",
    "import pandas as pd\n",
    "import numpy as np\n",
    "import statsmodels.api as sm\n",
    "import matplotlib.pyplot as plt\n",
    "import seaborn as sn\n",
    "from sklearn.model_selection import train_test_split \n",
    "\n",
    "\n",
    "np.set_printoptions(precision=4, linewidth=100) \n",
    "mba_salary_df = pd.read_csv ('/home/akash/Documents/MACHINE LEARNING/CARS/MBA Salary.csv')\n",
    "#mba_salary_df = pd.read_csv( 'MBA Salary.csv' )\n",
    "#mba_salary_df.head( 10 )\n",
    "X = sm.add_constant( mba_salary_df['Percentage in Grade 10'] )  # add a column of one in an array\n",
    "#X.head(5)\n",
    "#X = mba_salary_df['Percentage in Grade 10'] \n",
    "Y = mba_salary_df['Salary'] \n",
    "X = sm.add_constant( mba_salary_df['Percentage in Grade 10'] ) \n",
    "Y.head(5)\n",
    "train_X, test_X, train_y, test_y = train_test_split( X ,Y,train_size = 0.8,random_state = 100 ) \n",
    "#mba_salary_df.info() \n",
    "mba_salary_lm = sm.OLS( train_y, train_X ).fit() \n",
    "#print(mba_salary_lm)\n",
    "print( mba_salary_lm.params ) \n",
    "mba_salary_lm.summary2() "
   ]
  },
  {
   "cell_type": "code",
   "execution_count": 14,
   "metadata": {},
   "outputs": [
    {
     "name": "stdout",
     "output_type": "stream",
     "text": [
      "85.59308314937454\n"
     ]
    }
   ],
   "source": [
    "from scipy import stats\n",
    "\n",
    "x = [5,7,8,7,2,17,2,9,4,11,12,9,6]\n",
    "y = [99,86,87,88,111,86,103,87,94,78,77,85,86]\n",
    "\n",
    "slope, intercept, r, p, std_err = stats.linregress(x, y)\n",
    "\n",
    "def myfunc(x):\n",
    "  return slope * x + intercept\n",
    "\n",
    "speed = myfunc(10)\n",
    "\n",
    "print(speed)"
   ]
  },
  {
   "cell_type": "code",
   "execution_count": null,
   "metadata": {},
   "outputs": [],
   "source": []
  }
 ],
 "metadata": {
  "kernelspec": {
   "display_name": "Python 3",
   "language": "python",
   "name": "python3"
  },
  "language_info": {
   "codemirror_mode": {
    "name": "ipython",
    "version": 3
   },
   "file_extension": ".py",
   "mimetype": "text/x-python",
   "name": "python",
   "nbconvert_exporter": "python",
   "pygments_lexer": "ipython3",
   "version": "3.7.6"
  }
 },
 "nbformat": 4,
 "nbformat_minor": 4
}
