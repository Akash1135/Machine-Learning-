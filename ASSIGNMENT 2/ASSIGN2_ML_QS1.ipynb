{
 "cells": [
  {
   "cell_type": "markdown",
   "metadata": {},
   "source": [
    "# ASSIGN_2_PROBLEM1\n",
    "\n",
    "Predicting Value of Y given X1 and X2.\n",
    "\n",
    "1.Enter the values of X1 and X2.\n",
    "2. Get the predicted value of Y \n",
    "3.Calculate the value of Root Mean Squared Error\n"
   ]
  },
  {
   "cell_type": "code",
   "execution_count": 26,
   "metadata": {},
   "outputs": [
    {
     "name": "stdout",
     "output_type": "stream",
     "text": [
      "Enter the value of x1 to predict y\n",
      "86\n",
      "Enter the value of x2 to predict y\n",
      "8\n",
      "Predicted value of Y for  86 and  8 is [7.45962296]\n",
      "Mean Absolute Error: 0.24999999999999956\n",
      "Mean Squared Error: 0.06499999999999981\n",
      "Root Mean Squared Error: 0.25495097567963887\n"
     ]
    }
   ],
   "source": [
    "import pandas as pd\n",
    "import matplotlib.pyplot as plt\n",
    "from sklearn import linear_model\n",
    "import statsmodels.api as sm\n",
    "import numpy as np\n",
    "\n",
    "df = pd.read_csv(\"/home/akash/Desktop/github/MACHINE LEARNING/ml_assign2_q1.csv\")\n",
    "X = df[['X1','X2']]\n",
    "y = df['Y']\n",
    "regr = linear_model.LinearRegression()\n",
    "regr.fit(X, y)\n",
    "x1 = int(input(\"Enter the value of x1 to predict y\\n\"))\n",
    "x2 = int(input(\"Enter the value of x2 to predict y\\n\"))\n",
    "predictedy = regr.predict([[x1,x2]])\n",
    "print(\"Predicted value of Y for \",x1,\"and \",x2,\"is\",predictedy)\n",
    "\n",
    "from sklearn.model_selection import train_test_split\n",
    "X_train, X_test, y_train, y_test = train_test_split(X, y, test_size=0.2, random_state=0)\n",
    "from sklearn.tree import DecisionTreeRegressor\n",
    "regressor = DecisionTreeRegressor()\n",
    "regressor.fit(X_train, y_train)\n",
    "y_pred = regressor.predict(X_test)\n",
    "df=pd.DataFrame({'Actual':y_test, 'Predicted':y_pred})\n",
    "\n",
    "from sklearn import metrics\n",
    "print('Mean Absolute Error:', metrics.mean_absolute_error(y_test, y_pred))\n",
    "print('Mean Squared Error:', metrics.mean_squared_error(y_test, y_pred))\n",
    "print('Root Mean Squared Error:', np.sqrt(metrics.mean_squared_error(y_test, y_pred)))"
   ]
  },
  {
   "cell_type": "markdown",
   "metadata": {},
   "source": [
    "# Calculation of Slope and Intercept Values"
   ]
  },
  {
   "cell_type": "code",
   "execution_count": 32,
   "metadata": {},
   "outputs": [
    {
     "name": "stdout",
     "output_type": "stream",
     "text": [
      "coefficient of determination: 0.8713995029975861\n",
      "intercept value of the model is : 3.73215813168261\n",
      "Slope is : [0.02622257 0.18404052]\n",
      "predicted response:\n",
      "[6.80212859 5.64688801 6.32963984 7.74710608 5.06999156 6.30341728\n",
      " 6.38208497 5.83092853 7.51062043 6.27719471]\n"
     ]
    },
    {
     "data": {
      "image/png": "[encoded data removed]",
      "text/plain": [
       "<Figure size 432x288 with 1 Axes>"
      ]
     },
     "metadata": {
      "needs_background": "light"
     },
     "output_type": "display_data"
    }
   ],
   "source": [
    "import pandas as pd\n",
    "import numpy as np\n",
    "import matplotlib.pyplot as plt\n",
    "%matplotlib inline\n",
    "dataset = pd.read_csv('/home/akash/Desktop/github/MACHINE LEARNING/ml_assign2_q1.csv')\n",
    "dataset.head()\n",
    "dataset.describe()\n",
    "\n",
    "from sklearn.linear_model import LinearRegression\n",
    "X = dataset.drop('Y', axis=1)\n",
    "y = dataset['Y']\n",
    "model = LinearRegression()\n",
    "model.fit(X, y)\n",
    "model = LinearRegression().fit(X, y)\n",
    "r_sq = model.score(X, y)\n",
    "print('coefficient of determination:', r_sq)\n",
    "print('intercept value of the model is :', model.intercept_)\n",
    "print('Slope is :', model.coef_)\n",
    "y_pred = model.predict(X)\n",
    "print('predicted response:', y_pred, sep='\\n')\n",
    "plt.scatter(X[\"X1\"],X[\"X2\"])\n",
    "plt.plot(X, y_pred, color = \"g\")\n",
    "# putting labels\n",
    "plt.xlabel('X')\n",
    "plt.ylabel('y')\n",
    "# function to show plot\n",
    "plt.show()"
   ]
  },
  {
   "cell_type": "code",
   "execution_count": 33,
   "metadata": {},
   "outputs": [
    {
     "name": "stdout",
     "output_type": "stream",
     "text": [
      "                            OLS Regression Results                            \n",
      "==============================================================================\n",
      "Dep. Variable:                      Y   R-squared:                       0.871\n",
      "Model:                            OLS   Adj. R-squared:                  0.835\n",
      "Method:                 Least Squares   F-statistic:                     23.72\n",
      "Date:                Sat, 22 May 2021   Prob (F-statistic):           0.000763\n",
      "Time:                        20:18:18   Log-Likelihood:                -1.9830\n",
      "No. Observations:                  10   AIC:                             9.966\n",
      "Df Residuals:                       7   BIC:                             10.87\n",
      "Df Model:                           2                                         \n",
      "Covariance Type:            nonrobust                                         \n",
      "==============================================================================\n",
      "                 coef    std err          t      P>|t|      [0.025      0.975]\n",
      "------------------------------------------------------------------------------\n",
      "const          3.7322      0.887      4.208      0.004       1.635       5.830\n",
      "X1             0.0262      0.020      1.310      0.232      -0.021       0.074\n",
      "X2             0.1840      0.251      0.733      0.487      -0.409       0.777\n",
      "==============================================================================\n",
      "Omnibus:                        1.340   Durbin-Watson:                   2.402\n",
      "Prob(Omnibus):                  0.512   Jarque-Bera (JB):                0.867\n",
      "Skew:                           0.654   Prob(JB):                        0.648\n",
      "Kurtosis:                       2.393   Cond. No.                         670.\n",
      "==============================================================================\n",
      "\n",
      "Warnings:\n",
      "[1] Standard Errors assume that the covariance matrix of the errors is correctly specified.\n"
     ]
    },
    {
     "name": "stderr",
     "output_type": "stream",
     "text": [
      "/home/akash/anaconda3/lib/python3.7/site-packages/scipy/stats/stats.py:1535: UserWarning: kurtosistest only valid for n>=20 ... continuing anyway, n=10\n",
      "  \"anyway, n=%i\" % int(n))\n"
     ]
    }
   ],
   "source": [
    "import statsmodels.api as sm\n",
    "X = sm.add_constant(X) # adding a constant\n",
    " \n",
    "model = sm.OLS(y, X).fit()\n",
    "predictions = model.predict(X) \n",
    " \n",
    "print_model = model.summary()\n",
    "print(print_model)"
   ]
  },
  {
   "cell_type": "code",
   "execution_count": null,
   "metadata": {},
   "outputs": [],
   "source": [
    "\n"
   ]
  },
  {
   "cell_type": "code",
   "execution_count": null,
   "metadata": {},
   "outputs": [],
   "source": []
  },
  {
   "cell_type": "code",
   "execution_count": null,
   "metadata": {},
   "outputs": [],
   "source": []
  }
 ],
 "metadata": {
  "kernelspec": {
   "display_name": "Python 3",
   "language": "python",
   "name": "python3"
  },
  "language_info": {
   "codemirror_mode": {
    "name": "ipython",
    "version": 3
   },
   "file_extension": ".py",
   "mimetype": "text/x-python",
   "name": "python",
   "nbconvert_exporter": "python",
   "pygments_lexer": "ipython3",
   "version": "3.7.6"
  }
 },
 "nbformat": 4,
 "nbformat_minor": 4
}
